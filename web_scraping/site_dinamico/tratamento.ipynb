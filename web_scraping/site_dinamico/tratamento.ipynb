{
 "cells": [
  {
   "cell_type": "code",
   "execution_count": 14,
   "metadata": {},
   "outputs": [],
   "source": [
    "import pandas as pd\n",
    "\n",
    "df = pd.read_excel('cadeiras.xlsx')"
   ]
  },
  {
   "cell_type": "code",
   "execution_count": 15,
   "metadata": {},
   "outputs": [
    {
     "name": "stdout",
     "output_type": "stream",
     "text": [
      "                                                  Nome Cor_Principal\n",
      "0    Cadeira Gamer KBM! GAMING CG200, Preto - Pistã...         preto\n",
      "1    Cadeira Gamer KBM! GAMING CG200, Preto e Branc...         preto\n",
      "2    Cadeira Gamer KBM! GAMING Tempest CG600, Preta...         preta\n",
      "3    Cadeira Gamer KBM! GAMING Tempest CG600, Branc...        branco\n",
      "4    Cadeira Gamer KBM! GAMING Tempest CG500 Preta ...         preta\n",
      "..                                                 ...           ...\n",
      "750        Cadeira Gamer Havit GC932, Vermelho E Preto         preto\n",
      "751  Cadeira Gamer Stars, Com Encosto Reclinável, M...         preta\n",
      "752  Cadeira Gamer Boxbit Raptor, Preta E Cinza, Ba...         preta\n",
      "753  Cadeira Gamer XT Racer Taycan Escritório Ergon...         preto\n",
      "754  Cadeira Gamer XT Racer Taycan Escritório Ergon...         preto\n",
      "\n",
      "[755 rows x 2 columns]\n",
      "\n",
      "Existem 57 periféricos com cor desconhecida.\n",
      "\n",
      "0       599.90\n",
      "1       599.90\n",
      "2       889.90\n",
      "3       889.90\n",
      "4       839.90\n",
      "        ...   \n",
      "750    1259.91\n",
      "751     733.94\n",
      "752     673.26\n",
      "753    1329.05\n",
      "754    1329.05\n",
      "Name: Preco, Length: 755, dtype: float64\n"
     ]
    }
   ],
   "source": [
    "cores = [\n",
    "    \"preto\", \"preta\", \"black\", \"branco\", \"branca\", \"white\", \"amarelo\", \"amarela\", \"yellow\", \"vermelho\", \"vermelha\", \"red\", \"azul\",\n",
    "    \"blue\", \"verde\", \"green\", \"roxo\", \"roxa\", \"laranja\", \"orange\", \"cinza\", \"marrom\", \"rosa\", \"pink\", \"café\", \"dourado\", \"ouro\",\n",
    "    \"ciano\", \"prata\", \"grape\", \"bege\", \"grafite\", \"uva\", \"geada\", \"grey\", \"silver\", \"off white\", \n",
    "]\n",
    "\n",
    "def extrair_cor(texto):\n",
    "    texto = texto.lower()\n",
    "    for cor in cores:\n",
    "        if cor in texto:\n",
    "            return cor\n",
    "    return \"Cor desconhecida\"\n",
    "\n",
    "df['Cor_Principal'] = df['Nome'].apply(extrair_cor)\n",
    "\n",
    "desconhecidas = (df['Cor_Principal'] == \"Cor desconhecida\").sum()\n",
    "\n",
    "df['Preco'] = df['Preco'].astype(str).str.replace('R$', '', regex=False)  \n",
    "df['Preco'] = df['Preco'].str.replace(' ', '', regex=False)  \n",
    "df['Preco'] = df['Preco'].str.replace('.', '', regex=False)  \n",
    "df['Preco'] = df['Preco'].str.replace(',', '.', regex=False)  \n",
    "df['Preco'] = df['Preco'].astype(float) \n",
    "\n",
    "print(df[['Nome', 'Cor_Principal']])\n",
    "print(f\"\\nExistem {desconhecidas} periféricos com cor desconhecida.\\n\")\n",
    "print(df['Preco'])"
   ]
  },
  {
   "cell_type": "code",
   "execution_count": 16,
   "metadata": {},
   "outputs": [],
   "source": [
    "df.to_excel('dados_tratados.xlsx', index=False)"
   ]
  }
 ],
 "metadata": {
  "kernelspec": {
   "display_name": "Python 3",
   "language": "python",
   "name": "python3"
  },
  "language_info": {
   "codemirror_mode": {
    "name": "ipython",
    "version": 3
   },
   "file_extension": ".py",
   "mimetype": "text/x-python",
   "name": "python",
   "nbconvert_exporter": "python",
   "pygments_lexer": "ipython3",
   "version": "3.12.1"
  }
 },
 "nbformat": 4,
 "nbformat_minor": 2
}
