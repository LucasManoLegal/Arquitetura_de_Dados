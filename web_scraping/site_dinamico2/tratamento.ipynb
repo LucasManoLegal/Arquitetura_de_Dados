{
 "cells": [
  {
   "cell_type": "code",
   "execution_count": 15,
   "metadata": {},
   "outputs": [
    {
     "name": "stdout",
     "output_type": "stream",
     "text": [
      "\n",
      "Existem 35 periféricos com cor desconhecida.\n",
      "\n",
      "Existem 3 periféricos com categoria desconhecida.\n",
      "\n",
      "Existem 0 periféricos com marca desconhecida.\n",
      "\n"
     ]
    }
   ],
   "source": [
    "import pandas as pd\n",
    "\n",
    "# Leitura do arquivo Excel\n",
    "df = pd.read_excel('perifericos.xlsx')\n",
    "\n",
    "# Listas de referência\n",
    "cores = [\"preto\", \"branco\", \"rosa\", \"cinza\", \"grafite\", \"vermelho\"]\n",
    "\n",
    "categorias = [\n",
    "    \"mouse\", \"teclado\", \"headset\", \"teclado e mouse\", \"webcam\", \"gabinete\", \"mesa digitalizadora\",\n",
    "    \"mochila\", \"fone de ouvido\", \"cabo fonte\", \"pen drive\", \"base com cooler\",\n",
    "    \"adaptador\", \"suporte de mesa\"\n",
    "]\n",
    "\n",
    "marcas = [\n",
    "    \"hp\", \"logitech\", \"dell\", \"wacom\", \"trust\", \"hayom\", \"multi\", \"c3-tech\", \"c3tech\", \"rise mode\", \"akko\",\n",
    "    \"fortrek\", \"bright\", \"maxprint\", \"intelbras\", \"razer\", \"poly\", \"xp-pen\", \"xp pen\", \"acer\", \"jabra\",\n",
    "    \"felitron\", \"dahua\", \"kingston\", \"huion\", \"north bayou\", \"audio-technica\", \"lenovo\", \"pcfort\",\n",
    "    \"concórdia\", \"oex\", \"mymax\", \"k-mex\", \"draxen\", \"arbaton\", \"vesa\", \"elg\", \"f3\"\n",
    "]\n",
    "\n",
    "# Funções de extração\n",
    "def extrair_categoria(texto):\n",
    "    texto = texto.lower()\n",
    "    for categoria in categorias:\n",
    "        if categoria in texto:\n",
    "            return categoria\n",
    "    return \"desconhecida\"\n",
    "\n",
    "def extrair_cor(texto):\n",
    "    texto = texto.lower()\n",
    "    for cor in cores:\n",
    "        if cor in texto:\n",
    "            return cor\n",
    "    return \"desconhecida\"\n",
    "\n",
    "def extrair_marca(texto):\n",
    "    texto = texto.lower()\n",
    "    for marca in marcas:\n",
    "        if marca in texto:\n",
    "            return marca\n",
    "    return \"desconhecida\"\n",
    "\n",
    "# Aplicação das extrações\n",
    "df['Categoria'] = df['Nome'].apply(extrair_categoria)\n",
    "df['Cor_Principal'] = df['Nome'].apply(extrair_cor)\n",
    "df['Marca'] = df['Nome'].apply(extrair_marca)\n",
    "\n",
    "# Limpeza do campo de preço\n",
    "df['Preco'] = df['Preco'].astype(str).str.replace('R$', '', regex=False)\n",
    "df['Preco'] = df['Preco'].str.replace(' ', '', regex=False)\n",
    "df['Preco'] = df['Preco'].str.replace('.', '', regex=False)\n",
    "df['Preco'] = df['Preco'].str.replace(',', '.', regex=False)\n",
    "df['Preco'] = df['Preco'].astype(float)\n",
    "\n",
    "# Contagem de desconhecidos\n",
    "cores_desconhecidas = (df['Cor_Principal'] == \"desconhecida\").sum()\n",
    "categorias_desconhecidas = (df['Categoria'] == \"desconhecida\").sum()\n",
    "marcas_desconhecidas = (df['Marca'] == \"desconhecida\").sum()\n",
    "\n",
    "# Formatação com title case\n",
    "df['Marca'] = df['Marca'].str.title()\n",
    "df['Cor_Principal'] = df['Cor_Principal'].str.title()\n",
    "df['Categoria'] = df['Categoria'].str.title()\n",
    "\n",
    "# Impressão das contagens\n",
    "print(f\"\\nExistem {cores_desconhecidas} periféricos com cor desconhecida.\\n\")\n",
    "print(f\"Existem {categorias_desconhecidas} periféricos com categoria desconhecida.\\n\")\n",
    "print(f\"Existem {marcas_desconhecidas} periféricos com marca desconhecida.\\n\")"
   ]
  },
  {
   "cell_type": "code",
   "execution_count": 16,
   "metadata": {},
   "outputs": [],
   "source": [
    "df.to_excel('dados_tratados.xlsx', index=False)"
   ]
  }
 ],
 "metadata": {
  "kernelspec": {
   "display_name": "Python 3",
   "language": "python",
   "name": "python3"
  },
  "language_info": {
   "codemirror_mode": {
    "name": "ipython",
    "version": 3
   },
   "file_extension": ".py",
   "mimetype": "text/x-python",
   "name": "python",
   "nbconvert_exporter": "python",
   "pygments_lexer": "ipython3",
   "version": "3.12.1"
  }
 },
 "nbformat": 4,
 "nbformat_minor": 2
}
