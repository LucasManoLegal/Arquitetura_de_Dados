{
 "cells": [
  {
   "cell_type": "code",
   "execution_count": 2,
   "metadata": {},
   "outputs": [
    {
     "name": "stdout",
     "output_type": "stream",
     "text": [
      "                                                  Nome     Cor_Principal\n",
      "0    Kit Mouse e Teclado Sem Fio HP 330, Wireless, ...             preto\n",
      "1    Mouse Sem Fio HP Z3700, Wireless, Preto - 758A...             preto\n",
      "2    Combo Teclado e Mouse sem fio Logitech MK345 c...  Cor desconhecida\n",
      "3    Webcam Full HD Logitech C920s com Microfone Em...  Cor desconhecida\n",
      "4    Teclado e Mouse Sem Fio Dell KM3322W, USB, ABN...             preto\n",
      "..                                                 ...               ...\n",
      "125  Gabinete Gamer Arbaton Vidro Temperado ARGB Br...            branco\n",
      "126  Mesa Digitalizadora Huion Kamvas Plus 22\", Tel...             preto\n",
      "127  Suporte Ergonômico Multiarticulado de Mesa par...           grafite\n",
      "128  Suporte de Mesa Articulado para Monitor de 17\"...  Cor desconhecida\n",
      "129  Suporte Articulado de Mesa para 2 Monitores DE...  Cor desconhecida\n",
      "\n",
      "[130 rows x 2 columns]\n",
      "\n",
      "Existem 35 periféricos com cor desconhecida.\n",
      "\n",
      "0       135.99\n",
      "1       159.99\n",
      "2       189.90\n",
      "3       409.99\n",
      "4       159.99\n",
      "        ...   \n",
      "125     549.90\n",
      "126    3599.99\n",
      "127     189.99\n",
      "128     149.99\n",
      "129     399.99\n",
      "Name: Preco, Length: 130, dtype: float64\n"
     ]
    }
   ],
   "source": [
    "import pandas as pd\n",
    "\n",
    "df = pd.read_excel('perifericos.xlsx')\n",
    "\n",
    "cores = [\"preto\", \"branco\", \"rosa\", \"cinza\", \"grafite\", \"vermelho\"]\n",
    "\n",
    "def extrair_cor(texto):\n",
    "    texto = texto.lower()\n",
    "    for cor in cores:\n",
    "        if cor in texto:\n",
    "            return cor\n",
    "    return \"Cor desconhecida\"\n",
    "\n",
    "df['Cor_Principal'] = df['Nome'].apply(extrair_cor)\n",
    "\n",
    "desconhecidas = (df['Cor_Principal'] == \"Cor desconhecida\").sum()\n",
    "\n",
    "df['Preco'] = df['Preco'].astype(str).str.replace('R$', '', regex=False)  \n",
    "df['Preco'] = df['Preco'].str.replace(' ', '', regex=False)  \n",
    "df['Preco'] = df['Preco'].str.replace('.', '', regex=False)  \n",
    "df['Preco'] = df['Preco'].str.replace(',', '.', regex=False)  \n",
    "df['Preco'] = df['Preco'].astype(float) \n",
    "\n",
    "print(df[['Nome', 'Cor_Principal']])\n",
    "print(f\"\\nExistem {desconhecidas} periféricos com cor desconhecida.\\n\")\n",
    "print(df['Preco'])"
   ]
  },
  {
   "cell_type": "code",
   "execution_count": 3,
   "metadata": {},
   "outputs": [],
   "source": [
    "df.to_excel('dados_tratados.xlsx', index=False)"
   ]
  }
 ],
 "metadata": {
  "kernelspec": {
   "display_name": "Python 3",
   "language": "python",
   "name": "python3"
  },
  "language_info": {
   "codemirror_mode": {
    "name": "ipython",
    "version": 3
   },
   "file_extension": ".py",
   "mimetype": "text/x-python",
   "name": "python",
   "nbconvert_exporter": "python",
   "pygments_lexer": "ipython3",
   "version": "3.12.1"
  }
 },
 "nbformat": 4,
 "nbformat_minor": 2
}
